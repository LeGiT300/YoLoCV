{
 "cells": [
  {
   "cell_type": "code",
   "execution_count": 1,
   "metadata": {},
   "outputs": [
    {
     "data": {
      "text/plain": [
       "'hello world'"
      ]
     },
     "execution_count": 1,
     "metadata": {},
     "output_type": "execute_result"
    }
   ],
   "source": [
    "'hello world'"
   ]
  },
  {
   "cell_type": "code",
   "execution_count": 3,
   "metadata": {},
   "outputs": [
    {
     "name": "stdout",
     "output_type": "stream",
     "text": [
      "Ultralytics 8.3.78 🚀 Python-3.11.5 torch-2.6.0+cpu CPU (11th Gen Intel Core(TM) i5-1145G7 2.60GHz)\n",
      "YOLOv8n summary (fused): 72 layers, 3,151,904 parameters, 0 gradients, 8.7 GFLOPs\n",
      "\n",
      "image 1/1 d:\\Smoke_IT\\YoLo\\amad.png: 448x640 2 persons, 1 sports ball, 87.7ms\n",
      "Speed: 3.7ms preprocess, 87.7ms inference, 1.1ms postprocess per image at shape (1, 3, 448, 640)\n",
      "Results saved to \u001b[1mruns\\detect\\predict\u001b[0m\n",
      "💡 Learn more at https://docs.ultralytics.com/modes/predict\n"
     ]
    }
   ],
   "source": [
    "!yolo task=detect mode=predict model=yolov8n.pt source='amad.png'"
   ]
  },
  {
   "cell_type": "code",
   "execution_count": 6,
   "metadata": {},
   "outputs": [
    {
     "name": "stdout",
     "output_type": "stream",
     "text": [
      "\n",
      "image 1/1 d:\\Smoke_IT\\YoLo\\anthony.png: 640x384 2 persons, 1 car, 59.9ms\n",
      "Speed: 1.7ms preprocess, 59.9ms inference, 0.8ms postprocess per image at shape (1, 3, 640, 384)\n"
     ]
    },
    {
     "data": {
      "text/plain": [
       "[ultralytics.engine.results.Results object with attributes:\n",
       " \n",
       " boxes: ultralytics.engine.results.Boxes object\n",
       " keypoints: None\n",
       " masks: None\n",
       " names: {0: 'person', 1: 'bicycle', 2: 'car', 3: 'motorcycle', 4: 'airplane', 5: 'bus', 6: 'train', 7: 'truck', 8: 'boat', 9: 'traffic light', 10: 'fire hydrant', 11: 'stop sign', 12: 'parking meter', 13: 'bench', 14: 'bird', 15: 'cat', 16: 'dog', 17: 'horse', 18: 'sheep', 19: 'cow', 20: 'elephant', 21: 'bear', 22: 'zebra', 23: 'giraffe', 24: 'backpack', 25: 'umbrella', 26: 'handbag', 27: 'tie', 28: 'suitcase', 29: 'frisbee', 30: 'skis', 31: 'snowboard', 32: 'sports ball', 33: 'kite', 34: 'baseball bat', 35: 'baseball glove', 36: 'skateboard', 37: 'surfboard', 38: 'tennis racket', 39: 'bottle', 40: 'wine glass', 41: 'cup', 42: 'fork', 43: 'knife', 44: 'spoon', 45: 'bowl', 46: 'banana', 47: 'apple', 48: 'sandwich', 49: 'orange', 50: 'broccoli', 51: 'carrot', 52: 'hot dog', 53: 'pizza', 54: 'donut', 55: 'cake', 56: 'chair', 57: 'couch', 58: 'potted plant', 59: 'bed', 60: 'dining table', 61: 'toilet', 62: 'tv', 63: 'laptop', 64: 'mouse', 65: 'remote', 66: 'keyboard', 67: 'cell phone', 68: 'microwave', 69: 'oven', 70: 'toaster', 71: 'sink', 72: 'refrigerator', 73: 'book', 74: 'clock', 75: 'vase', 76: 'scissors', 77: 'teddy bear', 78: 'hair drier', 79: 'toothbrush'}\n",
       " obb: None\n",
       " orig_img: array([[[ 23,  49,  41],\n",
       "         [ 28,  62,  53],\n",
       "         [ 30,  73,  63],\n",
       "         ...,\n",
       "         [162, 124, 109],\n",
       "         [162, 125, 109],\n",
       "         [163, 125, 110]],\n",
       " \n",
       "        [[ 28,  55,  47],\n",
       "         [ 34,  70,  61],\n",
       "         [ 40,  84,  73],\n",
       "         ...,\n",
       "         [162, 124, 109],\n",
       "         [162, 125, 109],\n",
       "         [163, 125, 110]],\n",
       " \n",
       "        [[ 24,  53,  45],\n",
       "         [ 31,  68,  58],\n",
       "         [ 36,  81,  71],\n",
       "         ...,\n",
       "         [162, 124, 109],\n",
       "         [162, 125, 109],\n",
       "         [163, 125, 110]],\n",
       " \n",
       "        ...,\n",
       " \n",
       "        [[100, 100, 107],\n",
       "         [ 99,  99, 105],\n",
       "         [ 97,  97, 103],\n",
       "         ...,\n",
       "         [101, 105, 113],\n",
       "         [100, 105, 112],\n",
       "         [ 99, 104, 111]],\n",
       " \n",
       "        [[100, 100, 106],\n",
       "         [ 99,  99, 105],\n",
       "         [ 97,  97, 103],\n",
       "         ...,\n",
       "         [102, 106, 114],\n",
       "         [101, 106, 113],\n",
       "         [100, 105, 112]],\n",
       " \n",
       "        [[ 99, 100, 106],\n",
       "         [ 98,  98, 105],\n",
       "         [ 97,  97, 103],\n",
       "         ...,\n",
       "         [103, 107, 115],\n",
       "         [103, 107, 114],\n",
       "         [101, 106, 113]]], dtype=uint8)\n",
       " orig_shape: (913, 522)\n",
       " path: 'd:\\\\Smoke_IT\\\\YoLo\\\\anthony.png'\n",
       " probs: None\n",
       " save_dir: 'runs\\\\detect\\\\predict'\n",
       " speed: {'preprocess': 1.7177999834530056, 'inference': 59.87450003158301, 'postprocess': 0.8340000058524311}]"
      ]
     },
     "execution_count": 6,
     "metadata": {},
     "output_type": "execute_result"
    }
   ],
   "source": [
    "from ultralytics import YOLO\n",
    "\n",
    "model = YOLO('yolov8n.pt')\n",
    "model.predict('anthony.png')"
   ]
  },
  {
   "cell_type": "code",
   "execution_count": null,
   "metadata": {},
   "outputs": [],
   "source": []
  }
 ],
 "metadata": {
  "kernelspec": {
   "display_name": "venv",
   "language": "python",
   "name": "python3"
  },
  "language_info": {
   "codemirror_mode": {
    "name": "ipython",
    "version": 3
   },
   "file_extension": ".py",
   "mimetype": "text/x-python",
   "name": "python",
   "nbconvert_exporter": "python",
   "pygments_lexer": "ipython3",
   "version": "3.11.5"
  }
 },
 "nbformat": 4,
 "nbformat_minor": 2
}
